{
 "cells": [
  {
   "cell_type": "code",
   "execution_count": 97,
   "metadata": {
    "collapsed": true
   },
   "outputs": [],
   "source": [
    "import pandas as pd\n",
    "from bs4 import BeautifulSoup\n",
    "import requests\n",
    "from functools import reduce\n",
    "import json"
   ]
  },
  {
   "cell_type": "code",
   "execution_count": 12,
   "metadata": {
    "collapsed": false
   },
   "outputs": [],
   "source": [
    "def curr_df(year):\n",
    "    r = requests.get(\"http://www.xe.com/currencytables/?from=USD&date={}-10-20\".format(year))\n",
    "    soup = BeautifulSoup(r.text, \"lxml\")\n",
    "    table = soup.find(\"table\", {\"id\": \"historicalRateTbl\"})\n",
    "    df = pd.read_html(str(table))\n",
    "    df = df[0]\n",
    "    df.columns = ['curr_code', 'curr_name', 'usd_to_x', 'x_to_usd']\n",
    "    return df"
   ]
  },
  {
   "cell_type": "code",
   "execution_count": 13,
   "metadata": {
    "collapsed": true
   },
   "outputs": [],
   "source": [
    "years = [i for i in range(2016, 1999, -1)]"
   ]
  },
  {
   "cell_type": "code",
   "execution_count": 14,
   "metadata": {
    "collapsed": false
   },
   "outputs": [],
   "source": [
    "dfs = []\n",
    "for i in years:\n",
    "    dfs.append(curr_df(i))"
   ]
  },
  {
   "cell_type": "code",
   "execution_count": 192,
   "metadata": {
    "collapsed": false
   },
   "outputs": [],
   "source": [
    "ndfs = []\n",
    "start_date = 2016\n",
    "for i, df in enumerate(dfs):\n",
    "    new_cols = []\n",
    "    for j, c in enumerate(df.columns):\n",
    "        if j:\n",
    "            #c = \"_\".join(c.split('_')[:-1])\n",
    "            new_cols.append(c + \"_{}\".format(start_date))\n",
    "        else:\n",
    "            new_cols.append(c)\n",
    "    df.columns = new_cols\n",
    "    start_date -= 1\n",
    "    ndfs.append(df)"
   ]
  },
  {
   "cell_type": "code",
   "execution_count": 234,
   "metadata": {
    "collapsed": true
   },
   "outputs": [],
   "source": [
    "bdf = reduce(lambda acc, x: pd.merge(acc, x, how='left', on='curr_code'), dfs)"
   ]
  },
  {
   "cell_type": "code",
   "execution_count": 235,
   "metadata": {
    "collapsed": false
   },
   "outputs": [],
   "source": [
    "cols = []\n",
    "for i in years:\n",
    "    cols.append('x_to_{}'.format(i))"
   ]
  },
  {
   "cell_type": "code",
   "execution_count": 236,
   "metadata": {
    "collapsed": false
   },
   "outputs": [],
   "source": [
    "bdf.index = dfs[0]['curr_code']"
   ]
  },
  {
   "cell_type": "code",
   "execution_count": 237,
   "metadata": {
    "collapsed": true
   },
   "outputs": [],
   "source": [
    "bdf = bdf[cols]"
   ]
  },
  {
   "cell_type": "code",
   "execution_count": 238,
   "metadata": {
    "collapsed": false
   },
   "outputs": [],
   "source": [
    "bdf.fillna(0, inplace=True)"
   ]
  },
  {
   "cell_type": "code",
   "execution_count": 127,
   "metadata": {
    "collapsed": false
   },
   "outputs": [],
   "source": [
    "currency = {}\n",
    "for c in dfs[0].curr_code:\n",
    "    r = requests.get(\"https://restcountries.eu/rest/v1/currency/%s\" % c)\n",
    "    if r.status_code == 200:\n",
    "        j = json.loads(r.text)\n",
    "        countries = []\n",
    "        for i in j:\n",
    "            latlng = i['latlng']\n",
    "            if len(latlng) == 2:\n",
    "                lat = round(latlng[0])\n",
    "                lg = round(latlng[1])\n",
    "                countries.append((i['name'], (lat, lg)))\n",
    "        currency[c] = countries"
   ]
  },
  {
   "cell_type": "code",
   "execution_count": 239,
   "metadata": {
    "collapsed": false
   },
   "outputs": [],
   "source": [
    "bdf = bdf[bdf.index.isin(currency.keys())]"
   ]
  },
  {
   "cell_type": "code",
   "execution_count": 240,
   "metadata": {
    "collapsed": false,
    "scrolled": true
   },
   "outputs": [],
   "source": [
    "for c in bdf.columns:\n",
    "    mn = bdf[c].min()\n",
    "    mx = bdf[c].max()\n",
    "    diff = mx - mn\n",
    "    bdf[c] = (bdf[c] - mn)/diff"
   ]
  },
  {
   "cell_type": "code",
   "execution_count": 241,
   "metadata": {
    "collapsed": false
   },
   "outputs": [],
   "source": [
    "rec = bdf.to_records()"
   ]
  },
  {
   "cell_type": "code",
   "execution_count": 242,
   "metadata": {
    "collapsed": false
   },
   "outputs": [],
   "source": [
    "data = []\n",
    "for i, y in enumerate(years):\n",
    "    globe = []\n",
    "    for r in rec:\n",
    "        if r[0] in currency:\n",
    "            for cities in currency[r[0]]:\n",
    "                globe.append(cities[1][0])\n",
    "                globe.append(cities[1][1])\n",
    "                globe.append(r[i+1])\n",
    "        \n",
    "    data.append([y, globe])"
   ]
  },
  {
   "cell_type": "code",
   "execution_count": 243,
   "metadata": {
    "collapsed": false
   },
   "outputs": [],
   "source": [
    "with open('good_curr.json', 'w') as f:\n",
    "    f.write(json.dumps(data))"
   ]
  },
  {
   "cell_type": "code",
   "execution_count": null,
   "metadata": {
    "collapsed": true
   },
   "outputs": [],
   "source": []
  }
 ],
 "metadata": {
  "anaconda-cloud": {},
  "kernelspec": {
   "display_name": "Python [Root]",
   "language": "python",
   "name": "Python [Root]"
  },
  "language_info": {
   "codemirror_mode": {
    "name": "ipython",
    "version": 3
   },
   "file_extension": ".py",
   "mimetype": "text/x-python",
   "name": "python",
   "nbconvert_exporter": "python",
   "pygments_lexer": "ipython3",
   "version": "3.5.1"
  }
 },
 "nbformat": 4,
 "nbformat_minor": 0
}
